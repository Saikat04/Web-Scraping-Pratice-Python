{
 "cells": [
  {
   "cell_type": "code",
   "execution_count": 1,
   "metadata": {},
   "outputs": [],
   "source": [
    "import requests\n",
    "import pandas as pd\n",
    "from tqdm import tqdm\n",
    "from bs4 import BeautifulSoup"
   ]
  },
  {
   "cell_type": "code",
   "execution_count": 2,
   "metadata": {},
   "outputs": [],
   "source": [
    "link = 'https://books.toscrape.com/catalogue/page-1.html'\n",
    "res = requests.get(link)"
   ]
  },
  {
   "cell_type": "code",
   "execution_count": 3,
   "metadata": {},
   "outputs": [],
   "source": [
    "soup = BeautifulSoup(res.text, 'html.parser')"
   ]
  },
  {
   "cell_type": "code",
   "execution_count": 9,
   "metadata": {},
   "outputs": [],
   "source": [
    "details = []\n",
    "for i in range(1, 51):\n",
    "    link = 'https://books.toscrape.com/catalogue/page-'+str(i)+'.html'\n",
    "    res = requests.get(link)\n",
    "    soup = BeautifulSoup(res.text, 'html.parser')\n",
    "    for sp in soup.find_all('li', class_ = 'col-xs-6 col-sm-4 col-md-3 col-lg-3'):\n",
    "        link = \"https://books.toscrape.com/catalogue/\"+sp.find_all('a')[-1].get('href')\n",
    "        title = sp.find_all('a')[-1].get('title')\n",
    "        price = sp.find('p', class_ = 'price_color').text[1:]\n",
    "        availability = sp.find('p', class_ = 'instock availability').text.strip()\n",
    "        img_link = \"https://books.toscrape.com\"+sp.find('img').get('src')[2:]\n",
    "        rating = sp.find('p').get('class')[-1]\n",
    "        details.append([link, title, img_link, price, rating, availability])"
   ]
  },
  {
   "cell_type": "code",
   "execution_count": 11,
   "metadata": {},
   "outputs": [],
   "source": [
    "df = pd.DataFrame(details, columns=['Link', 'Title', 'Img_Link', 'Price', 'Ratings', 'Availability'])\n",
    "df.to_csv('BooksDetails.csv', index = False)"
   ]
  },
  {
   "cell_type": "code",
   "execution_count": 12,
   "metadata": {},
   "outputs": [
    {
     "data": {
      "text/html": [
       "<div>\n",
       "<style scoped>\n",
       "    .dataframe tbody tr th:only-of-type {\n",
       "        vertical-align: middle;\n",
       "    }\n",
       "\n",
       "    .dataframe tbody tr th {\n",
       "        vertical-align: top;\n",
       "    }\n",
       "\n",
       "    .dataframe thead th {\n",
       "        text-align: right;\n",
       "    }\n",
       "</style>\n",
       "<table border=\"1\" class=\"dataframe\">\n",
       "  <thead>\n",
       "    <tr style=\"text-align: right;\">\n",
       "      <th></th>\n",
       "      <th>Link</th>\n",
       "      <th>Title</th>\n",
       "      <th>Img_Link</th>\n",
       "      <th>Price</th>\n",
       "      <th>Ratings</th>\n",
       "      <th>Availability</th>\n",
       "    </tr>\n",
       "  </thead>\n",
       "  <tbody>\n",
       "    <tr>\n",
       "      <th>0</th>\n",
       "      <td>https://books.toscrape.com/catalogue/a-light-i...</td>\n",
       "      <td>A Light in the Attic</td>\n",
       "      <td>https://books.toscrape.com/media/cache/2c/da/2...</td>\n",
       "      <td>£51.77</td>\n",
       "      <td>Three</td>\n",
       "      <td>In stock</td>\n",
       "    </tr>\n",
       "    <tr>\n",
       "      <th>1</th>\n",
       "      <td>https://books.toscrape.com/catalogue/tipping-t...</td>\n",
       "      <td>Tipping the Velvet</td>\n",
       "      <td>https://books.toscrape.com/media/cache/26/0c/2...</td>\n",
       "      <td>£53.74</td>\n",
       "      <td>One</td>\n",
       "      <td>In stock</td>\n",
       "    </tr>\n",
       "    <tr>\n",
       "      <th>2</th>\n",
       "      <td>https://books.toscrape.com/catalogue/soumissio...</td>\n",
       "      <td>Soumission</td>\n",
       "      <td>https://books.toscrape.com/media/cache/3e/ef/3...</td>\n",
       "      <td>£50.10</td>\n",
       "      <td>One</td>\n",
       "      <td>In stock</td>\n",
       "    </tr>\n",
       "    <tr>\n",
       "      <th>3</th>\n",
       "      <td>https://books.toscrape.com/catalogue/sharp-obj...</td>\n",
       "      <td>Sharp Objects</td>\n",
       "      <td>https://books.toscrape.com/media/cache/32/51/3...</td>\n",
       "      <td>£47.82</td>\n",
       "      <td>Four</td>\n",
       "      <td>In stock</td>\n",
       "    </tr>\n",
       "    <tr>\n",
       "      <th>4</th>\n",
       "      <td>https://books.toscrape.com/catalogue/sapiens-a...</td>\n",
       "      <td>Sapiens: A Brief History of Humankind</td>\n",
       "      <td>https://books.toscrape.com/media/cache/be/a5/b...</td>\n",
       "      <td>£54.23</td>\n",
       "      <td>Five</td>\n",
       "      <td>In stock</td>\n",
       "    </tr>\n",
       "  </tbody>\n",
       "</table>\n",
       "</div>"
      ],
      "text/plain": [
       "                                                Link  \\\n",
       "0  https://books.toscrape.com/catalogue/a-light-i...   \n",
       "1  https://books.toscrape.com/catalogue/tipping-t...   \n",
       "2  https://books.toscrape.com/catalogue/soumissio...   \n",
       "3  https://books.toscrape.com/catalogue/sharp-obj...   \n",
       "4  https://books.toscrape.com/catalogue/sapiens-a...   \n",
       "\n",
       "                                   Title  \\\n",
       "0                   A Light in the Attic   \n",
       "1                     Tipping the Velvet   \n",
       "2                             Soumission   \n",
       "3                          Sharp Objects   \n",
       "4  Sapiens: A Brief History of Humankind   \n",
       "\n",
       "                                            Img_Link   Price Ratings  \\\n",
       "0  https://books.toscrape.com/media/cache/2c/da/2...  £51.77   Three   \n",
       "1  https://books.toscrape.com/media/cache/26/0c/2...  £53.74     One   \n",
       "2  https://books.toscrape.com/media/cache/3e/ef/3...  £50.10     One   \n",
       "3  https://books.toscrape.com/media/cache/32/51/3...  £47.82    Four   \n",
       "4  https://books.toscrape.com/media/cache/be/a5/b...  £54.23    Five   \n",
       "\n",
       "  Availability  \n",
       "0     In stock  \n",
       "1     In stock  \n",
       "2     In stock  \n",
       "3     In stock  \n",
       "4     In stock  "
      ]
     },
     "execution_count": 12,
     "metadata": {},
     "output_type": "execute_result"
    }
   ],
   "source": [
    "df.head()"
   ]
  },
  {
   "cell_type": "markdown",
   "metadata": {},
   "source": [
    "##### Extracting Information from individual book site"
   ]
  },
  {
   "cell_type": "code",
   "execution_count": 13,
   "metadata": {},
   "outputs": [],
   "source": [
    "df = pd.read_csv('BooksDetails.csv')"
   ]
  },
  {
   "cell_type": "code",
   "execution_count": null,
   "metadata": {},
   "outputs": [
    {
     "data": {
      "text/plain": [
       "0    https://books.toscrape.com/catalogue/a-light-i...\n",
       "1    https://books.toscrape.com/catalogue/tipping-t...\n",
       "2    https://books.toscrape.com/catalogue/soumissio...\n",
       "3    https://books.toscrape.com/catalogue/sharp-obj...\n",
       "4    https://books.toscrape.com/catalogue/sapiens-a...\n",
       "Name: Link, dtype: object"
      ]
     },
     "execution_count": 16,
     "metadata": {},
     "output_type": "execute_result"
    }
   ],
   "source": [
    "df['Link'].head()"
   ]
  },
  {
   "cell_type": "code",
   "execution_count": 56,
   "metadata": {},
   "outputs": [
    {
     "name": "stderr",
     "output_type": "stream",
     "text": [
      "100%|██████████| 1000/1000 [30:42<00:00,  1.84s/it]\n"
     ]
    }
   ],
   "source": [
    "bdetails = []\n",
    "for link in tqdm(df['Link']):\n",
    "    res = requests.get(link)\n",
    "    soup = BeautifulSoup(res.text, 'html.parser')\n",
    "    category = soup.find('ul', class_ = 'breadcrumb').find_all('a')[2].text\n",
    "    bdetail = soup.find('table', class_ = 'table table-striped').find_all('td')\n",
    "    UPC = bdetail[0].text\n",
    "    price_exctax = bdetail[2].text[1:]\n",
    "    price_inctax = bdetail[3].text[1:]\n",
    "    tax = bdetail[4].text[1:]\n",
    "    in_stock = bdetail[5].text\n",
    "    start_pos = in_stock.find('(') + 1 \n",
    "    no_available_books = in_stock[start_pos:-11].strip()\n",
    "    no_reviewes = bdetail[6].text\n",
    "    bdetails.append([category, UPC, price_exctax, price_inctax, tax, in_stock, no_available_books, no_reviewes])"
   ]
  },
  {
   "cell_type": "code",
   "execution_count": 58,
   "metadata": {},
   "outputs": [],
   "source": [
    "df = pd.DataFrame(bdetails, columns=['category', 'UPC', 'price_e_tax', 'price_i_tax', 'tax', 'in_stock', 'no_of_availability', 'no_reviews'])"
   ]
  },
  {
   "cell_type": "code",
   "execution_count": 61,
   "metadata": {},
   "outputs": [],
   "source": [
    "df.drop('in_stock', axis = 1, inplace = True)"
   ]
  },
  {
   "cell_type": "code",
   "execution_count": 62,
   "metadata": {},
   "outputs": [
    {
     "data": {
      "text/html": [
       "<div>\n",
       "<style scoped>\n",
       "    .dataframe tbody tr th:only-of-type {\n",
       "        vertical-align: middle;\n",
       "    }\n",
       "\n",
       "    .dataframe tbody tr th {\n",
       "        vertical-align: top;\n",
       "    }\n",
       "\n",
       "    .dataframe thead th {\n",
       "        text-align: right;\n",
       "    }\n",
       "</style>\n",
       "<table border=\"1\" class=\"dataframe\">\n",
       "  <thead>\n",
       "    <tr style=\"text-align: right;\">\n",
       "      <th></th>\n",
       "      <th>category</th>\n",
       "      <th>UPC</th>\n",
       "      <th>price_e_tax</th>\n",
       "      <th>price_i_tax</th>\n",
       "      <th>tax</th>\n",
       "      <th>no_of_availability</th>\n",
       "      <th>no_reviews</th>\n",
       "    </tr>\n",
       "  </thead>\n",
       "  <tbody>\n",
       "    <tr>\n",
       "      <th>0</th>\n",
       "      <td>Poetry</td>\n",
       "      <td>a897fe39b1053632</td>\n",
       "      <td>£51.77</td>\n",
       "      <td>£51.77</td>\n",
       "      <td>£0.00</td>\n",
       "      <td>22</td>\n",
       "      <td>0</td>\n",
       "    </tr>\n",
       "    <tr>\n",
       "      <th>1</th>\n",
       "      <td>Historical Fiction</td>\n",
       "      <td>90fa61229261140a</td>\n",
       "      <td>£53.74</td>\n",
       "      <td>£53.74</td>\n",
       "      <td>£0.00</td>\n",
       "      <td>20</td>\n",
       "      <td>0</td>\n",
       "    </tr>\n",
       "    <tr>\n",
       "      <th>2</th>\n",
       "      <td>Fiction</td>\n",
       "      <td>6957f44c3847a760</td>\n",
       "      <td>£50.10</td>\n",
       "      <td>£50.10</td>\n",
       "      <td>£0.00</td>\n",
       "      <td>20</td>\n",
       "      <td>0</td>\n",
       "    </tr>\n",
       "    <tr>\n",
       "      <th>3</th>\n",
       "      <td>Mystery</td>\n",
       "      <td>e00eb4fd7b871a48</td>\n",
       "      <td>£47.82</td>\n",
       "      <td>£47.82</td>\n",
       "      <td>£0.00</td>\n",
       "      <td>20</td>\n",
       "      <td>0</td>\n",
       "    </tr>\n",
       "    <tr>\n",
       "      <th>4</th>\n",
       "      <td>History</td>\n",
       "      <td>4165285e1663650f</td>\n",
       "      <td>£54.23</td>\n",
       "      <td>£54.23</td>\n",
       "      <td>£0.00</td>\n",
       "      <td>20</td>\n",
       "      <td>0</td>\n",
       "    </tr>\n",
       "  </tbody>\n",
       "</table>\n",
       "</div>"
      ],
      "text/plain": [
       "             category               UPC price_e_tax price_i_tax    tax  \\\n",
       "0              Poetry  a897fe39b1053632      £51.77      £51.77  £0.00   \n",
       "1  Historical Fiction  90fa61229261140a      £53.74      £53.74  £0.00   \n",
       "2             Fiction  6957f44c3847a760      £50.10      £50.10  £0.00   \n",
       "3             Mystery  e00eb4fd7b871a48      £47.82      £47.82  £0.00   \n",
       "4             History  4165285e1663650f      £54.23      £54.23  £0.00   \n",
       "\n",
       "  no_of_availability no_reviews  \n",
       "0                 22          0  \n",
       "1                 20          0  \n",
       "2                 20          0  \n",
       "3                 20          0  \n",
       "4                 20          0  "
      ]
     },
     "execution_count": 62,
     "metadata": {},
     "output_type": "execute_result"
    }
   ],
   "source": [
    "df.head()"
   ]
  },
  {
   "cell_type": "code",
   "execution_count": 64,
   "metadata": {},
   "outputs": [],
   "source": [
    "df.to_csv('IndividualBookDetails.csv', index = False)"
   ]
  },
  {
   "cell_type": "markdown",
   "metadata": {},
   "source": [
    "##### Concatenate two dataframe"
   ]
  },
  {
   "cell_type": "code",
   "execution_count": 65,
   "metadata": {},
   "outputs": [],
   "source": [
    "df1 = pd.read_csv('BooksDetails.csv')\n",
    "df2 = pd.read_csv('IndividualBookDetails.csv')"
   ]
  },
  {
   "cell_type": "code",
   "execution_count": 70,
   "metadata": {},
   "outputs": [
    {
     "data": {
      "text/plain": [
       "(1000, 13)"
      ]
     },
     "execution_count": 70,
     "metadata": {},
     "output_type": "execute_result"
    }
   ],
   "source": [
    "resultant_df = pd.concat([df1, df2], axis = 1)\n",
    "# resultant_df.head()\n",
    "resultant_df.shape\n"
   ]
  },
  {
   "cell_type": "code",
   "execution_count": 71,
   "metadata": {},
   "outputs": [],
   "source": [
    "resultant_df.to_csv('AllDetails.csv', index=False)"
   ]
  }
 ],
 "metadata": {
  "kernelspec": {
   "display_name": "Python 3",
   "language": "python",
   "name": "python3"
  },
  "language_info": {
   "codemirror_mode": {
    "name": "ipython",
    "version": 3
   },
   "file_extension": ".py",
   "mimetype": "text/x-python",
   "name": "python",
   "nbconvert_exporter": "python",
   "pygments_lexer": "ipython3",
   "version": "3.12.7"
  }
 },
 "nbformat": 4,
 "nbformat_minor": 2
}
